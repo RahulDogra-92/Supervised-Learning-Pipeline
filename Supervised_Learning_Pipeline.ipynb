{
  "nbformat": 4,
  "nbformat_minor": 0,
  "metadata": {
    "colab": {
      "name": "Supervised Learning Pipeline",
      "provenance": [],
      "include_colab_link": true
    },
    "kernelspec": {
      "name": "python3",
      "display_name": "Python 3"
    },
    "language_info": {
      "name": "python"
    }
  },
  "cells": [
    {
      "cell_type": "markdown",
      "metadata": {
        "id": "view-in-github",
        "colab_type": "text"
      },
      "source": [
        "<a href=\"https://colab.research.google.com/github/RahulDogra-92/Supervised-Learning-Pipeline/blob/main/Supervised_Learning_Pipeline.ipynb\" target=\"_parent\"><img src=\"https://colab.research.google.com/assets/colab-badge.svg\" alt=\"Open In Colab\"/></a>"
      ]
    },
    {
      "cell_type": "markdown",
      "metadata": {
        "id": "9vSs_kMYBbFi"
      },
      "source": [
        "#Imports"
      ]
    },
    {
      "cell_type": "code",
      "metadata": {
        "id": "Wd2y1S0YBfKg"
      },
      "source": [
        "import numpy as np\n",
        "import pandas as pd\n",
        "import warnings\n",
        "warnings.filterwarnings(\"ignore\")  #Ignore the warnings\n",
        "from sklearn import preprocessing\n",
        "from sklearn.ensemble import RandomForestClassifier\n",
        "from sklearn.ensemble import AdaBoostClassifier\n",
        "from sklearn.neighbors import KNeighborsClassifier\n",
        "from sklearn.model_selection import train_test_split\n",
        "from sklearn.ensemble import ExtraTreesClassifier\n",
        "from sklearn.feature_selection import SelectKBest, chi2\n",
        "from sklearn.model_selection import GridSearchCV\n",
        "from sklearn.metrics import accuracy_score\n",
        "from sklearn.metrics import confusion_matrix , classification_report"
      ],
      "execution_count": 18,
      "outputs": []
    },
    {
      "cell_type": "code",
      "metadata": {
        "id": "NXLcx-CoBg2F"
      },
      "source": [
        "train = pd.read_csv('train_s3TEQDk.csv')"
      ],
      "execution_count": 19,
      "outputs": []
    },
    {
      "cell_type": "code",
      "metadata": {
        "colab": {
          "base_uri": "https://localhost:8080/",
          "height": 143
        },
        "id": "ElSuEr-sBlUW",
        "outputId": "5c8298e0-c318-4793-b2b6-f46b866ba7a9"
      },
      "source": [
        "# Inspect the first few lines of your data using head()\n",
        "train.head(3)"
      ],
      "execution_count": 20,
      "outputs": [
        {
          "output_type": "execute_result",
          "data": {
            "text/html": [
              "<div>\n",
              "<style scoped>\n",
              "    .dataframe tbody tr th:only-of-type {\n",
              "        vertical-align: middle;\n",
              "    }\n",
              "\n",
              "    .dataframe tbody tr th {\n",
              "        vertical-align: top;\n",
              "    }\n",
              "\n",
              "    .dataframe thead th {\n",
              "        text-align: right;\n",
              "    }\n",
              "</style>\n",
              "<table border=\"1\" class=\"dataframe\">\n",
              "  <thead>\n",
              "    <tr style=\"text-align: right;\">\n",
              "      <th></th>\n",
              "      <th>ID</th>\n",
              "      <th>Gender</th>\n",
              "      <th>Age</th>\n",
              "      <th>Region_Code</th>\n",
              "      <th>Occupation</th>\n",
              "      <th>Channel_Code</th>\n",
              "      <th>Vintage</th>\n",
              "      <th>Credit_Product</th>\n",
              "      <th>Avg_Account_Balance</th>\n",
              "      <th>Is_Active</th>\n",
              "      <th>Is_Lead</th>\n",
              "    </tr>\n",
              "  </thead>\n",
              "  <tbody>\n",
              "    <tr>\n",
              "      <th>0</th>\n",
              "      <td>NNVBBKZB</td>\n",
              "      <td>Female</td>\n",
              "      <td>73</td>\n",
              "      <td>RG268</td>\n",
              "      <td>Other</td>\n",
              "      <td>X3</td>\n",
              "      <td>43</td>\n",
              "      <td>No</td>\n",
              "      <td>1045696</td>\n",
              "      <td>No</td>\n",
              "      <td>0</td>\n",
              "    </tr>\n",
              "    <tr>\n",
              "      <th>1</th>\n",
              "      <td>IDD62UNG</td>\n",
              "      <td>Female</td>\n",
              "      <td>30</td>\n",
              "      <td>RG277</td>\n",
              "      <td>Salaried</td>\n",
              "      <td>X1</td>\n",
              "      <td>32</td>\n",
              "      <td>No</td>\n",
              "      <td>581988</td>\n",
              "      <td>No</td>\n",
              "      <td>0</td>\n",
              "    </tr>\n",
              "    <tr>\n",
              "      <th>2</th>\n",
              "      <td>HD3DSEMC</td>\n",
              "      <td>Female</td>\n",
              "      <td>56</td>\n",
              "      <td>RG268</td>\n",
              "      <td>Self_Employed</td>\n",
              "      <td>X3</td>\n",
              "      <td>26</td>\n",
              "      <td>No</td>\n",
              "      <td>1484315</td>\n",
              "      <td>Yes</td>\n",
              "      <td>0</td>\n",
              "    </tr>\n",
              "  </tbody>\n",
              "</table>\n",
              "</div>"
            ],
            "text/plain": [
              "         ID  Gender  Age  ... Avg_Account_Balance Is_Active Is_Lead\n",
              "0  NNVBBKZB  Female   73  ...             1045696        No       0\n",
              "1  IDD62UNG  Female   30  ...              581988        No       0\n",
              "2  HD3DSEMC  Female   56  ...             1484315       Yes       0\n",
              "\n",
              "[3 rows x 11 columns]"
            ]
          },
          "metadata": {
            "tags": []
          },
          "execution_count": 20
        }
      ]
    },
    {
      "cell_type": "code",
      "metadata": {
        "colab": {
          "base_uri": "https://localhost:8080/"
        },
        "id": "qu7uHFHxFFnQ",
        "outputId": "c401aa78-e3a3-4dc7-859d-6f3cd0f8099e"
      },
      "source": [
        "# Count the number of missing values in each column\n",
        "train.isnull().sum()"
      ],
      "execution_count": 21,
      "outputs": [
        {
          "output_type": "execute_result",
          "data": {
            "text/plain": [
              "ID                         0\n",
              "Gender                     0\n",
              "Age                        0\n",
              "Region_Code                0\n",
              "Occupation                 0\n",
              "Channel_Code               0\n",
              "Vintage                    0\n",
              "Credit_Product         29325\n",
              "Avg_Account_Balance        0\n",
              "Is_Active                  0\n",
              "Is_Lead                    0\n",
              "dtype: int64"
            ]
          },
          "metadata": {
            "tags": []
          },
          "execution_count": 21
        }
      ]
    },
    {
      "cell_type": "code",
      "metadata": {
        "id": "6MeniP2KFPdK"
      },
      "source": [
        "# Fill the missing categorical values with mode\n",
        "train['Credit_Product'].fillna(str(train['Credit_Product'].mode().values[0]),inplace=True)"
      ],
      "execution_count": 22,
      "outputs": []
    },
    {
      "cell_type": "code",
      "metadata": {
        "colab": {
          "base_uri": "https://localhost:8080/"
        },
        "id": "oQXxayI7FVKI",
        "outputId": "9cfc8342-5151-4934-cd3e-6b7d46ad8d49"
      },
      "source": [
        "train.isnull().sum()"
      ],
      "execution_count": 23,
      "outputs": [
        {
          "output_type": "execute_result",
          "data": {
            "text/plain": [
              "ID                     0\n",
              "Gender                 0\n",
              "Age                    0\n",
              "Region_Code            0\n",
              "Occupation             0\n",
              "Channel_Code           0\n",
              "Vintage                0\n",
              "Credit_Product         0\n",
              "Avg_Account_Balance    0\n",
              "Is_Active              0\n",
              "Is_Lead                0\n",
              "dtype: int64"
            ]
          },
          "metadata": {
            "tags": []
          },
          "execution_count": 23
        }
      ]
    },
    {
      "cell_type": "markdown",
      "metadata": {
        "id": "qp6YqFgxG5LO"
      },
      "source": [
        "#Feature Engineering"
      ]
    },
    {
      "cell_type": "code",
      "metadata": {
        "colab": {
          "base_uri": "https://localhost:8080/",
          "height": 143
        },
        "id": "1eMzJ7tKCBXG",
        "outputId": "d5d48c93-9642-42c5-c8a2-b5bbc3d3d4bc"
      },
      "source": [
        "#List of all column names whose data types are string,\n",
        "train_categorical = train.select_dtypes(include=['object'])\n",
        "train_categorical.head(3)"
      ],
      "execution_count": 24,
      "outputs": [
        {
          "output_type": "execute_result",
          "data": {
            "text/html": [
              "<div>\n",
              "<style scoped>\n",
              "    .dataframe tbody tr th:only-of-type {\n",
              "        vertical-align: middle;\n",
              "    }\n",
              "\n",
              "    .dataframe tbody tr th {\n",
              "        vertical-align: top;\n",
              "    }\n",
              "\n",
              "    .dataframe thead th {\n",
              "        text-align: right;\n",
              "    }\n",
              "</style>\n",
              "<table border=\"1\" class=\"dataframe\">\n",
              "  <thead>\n",
              "    <tr style=\"text-align: right;\">\n",
              "      <th></th>\n",
              "      <th>ID</th>\n",
              "      <th>Gender</th>\n",
              "      <th>Region_Code</th>\n",
              "      <th>Occupation</th>\n",
              "      <th>Channel_Code</th>\n",
              "      <th>Credit_Product</th>\n",
              "      <th>Is_Active</th>\n",
              "    </tr>\n",
              "  </thead>\n",
              "  <tbody>\n",
              "    <tr>\n",
              "      <th>0</th>\n",
              "      <td>NNVBBKZB</td>\n",
              "      <td>Female</td>\n",
              "      <td>RG268</td>\n",
              "      <td>Other</td>\n",
              "      <td>X3</td>\n",
              "      <td>No</td>\n",
              "      <td>No</td>\n",
              "    </tr>\n",
              "    <tr>\n",
              "      <th>1</th>\n",
              "      <td>IDD62UNG</td>\n",
              "      <td>Female</td>\n",
              "      <td>RG277</td>\n",
              "      <td>Salaried</td>\n",
              "      <td>X1</td>\n",
              "      <td>No</td>\n",
              "      <td>No</td>\n",
              "    </tr>\n",
              "    <tr>\n",
              "      <th>2</th>\n",
              "      <td>HD3DSEMC</td>\n",
              "      <td>Female</td>\n",
              "      <td>RG268</td>\n",
              "      <td>Self_Employed</td>\n",
              "      <td>X3</td>\n",
              "      <td>No</td>\n",
              "      <td>Yes</td>\n",
              "    </tr>\n",
              "  </tbody>\n",
              "</table>\n",
              "</div>"
            ],
            "text/plain": [
              "         ID  Gender Region_Code  ... Channel_Code Credit_Product Is_Active\n",
              "0  NNVBBKZB  Female       RG268  ...           X3             No        No\n",
              "1  IDD62UNG  Female       RG277  ...           X1             No        No\n",
              "2  HD3DSEMC  Female       RG268  ...           X3             No       Yes\n",
              "\n",
              "[3 rows x 7 columns]"
            ]
          },
          "metadata": {
            "tags": []
          },
          "execution_count": 24
        }
      ]
    },
    {
      "cell_type": "code",
      "metadata": {
        "colab": {
          "base_uri": "https://localhost:8080/",
          "height": 143
        },
        "id": "DCIlK85XCT_6",
        "outputId": "0309caf1-2b85-41a0-cd5a-d4ec6a91de16"
      },
      "source": [
        "train_categorical.drop(['ID'],axis=1,inplace=True)\n",
        "train_categorical.head(3)"
      ],
      "execution_count": 25,
      "outputs": [
        {
          "output_type": "execute_result",
          "data": {
            "text/html": [
              "<div>\n",
              "<style scoped>\n",
              "    .dataframe tbody tr th:only-of-type {\n",
              "        vertical-align: middle;\n",
              "    }\n",
              "\n",
              "    .dataframe tbody tr th {\n",
              "        vertical-align: top;\n",
              "    }\n",
              "\n",
              "    .dataframe thead th {\n",
              "        text-align: right;\n",
              "    }\n",
              "</style>\n",
              "<table border=\"1\" class=\"dataframe\">\n",
              "  <thead>\n",
              "    <tr style=\"text-align: right;\">\n",
              "      <th></th>\n",
              "      <th>Gender</th>\n",
              "      <th>Region_Code</th>\n",
              "      <th>Occupation</th>\n",
              "      <th>Channel_Code</th>\n",
              "      <th>Credit_Product</th>\n",
              "      <th>Is_Active</th>\n",
              "    </tr>\n",
              "  </thead>\n",
              "  <tbody>\n",
              "    <tr>\n",
              "      <th>0</th>\n",
              "      <td>Female</td>\n",
              "      <td>RG268</td>\n",
              "      <td>Other</td>\n",
              "      <td>X3</td>\n",
              "      <td>No</td>\n",
              "      <td>No</td>\n",
              "    </tr>\n",
              "    <tr>\n",
              "      <th>1</th>\n",
              "      <td>Female</td>\n",
              "      <td>RG277</td>\n",
              "      <td>Salaried</td>\n",
              "      <td>X1</td>\n",
              "      <td>No</td>\n",
              "      <td>No</td>\n",
              "    </tr>\n",
              "    <tr>\n",
              "      <th>2</th>\n",
              "      <td>Female</td>\n",
              "      <td>RG268</td>\n",
              "      <td>Self_Employed</td>\n",
              "      <td>X3</td>\n",
              "      <td>No</td>\n",
              "      <td>Yes</td>\n",
              "    </tr>\n",
              "  </tbody>\n",
              "</table>\n",
              "</div>"
            ],
            "text/plain": [
              "   Gender Region_Code     Occupation Channel_Code Credit_Product Is_Active\n",
              "0  Female       RG268          Other           X3             No        No\n",
              "1  Female       RG277       Salaried           X1             No        No\n",
              "2  Female       RG268  Self_Employed           X3             No       Yes"
            ]
          },
          "metadata": {
            "tags": []
          },
          "execution_count": 25
        }
      ]
    },
    {
      "cell_type": "code",
      "metadata": {
        "colab": {
          "base_uri": "https://localhost:8080/",
          "height": 143
        },
        "id": "dYYg_76bCqcI",
        "outputId": "14b724e4-2d64-4f12-abbc-9ad89ebca2f5"
      },
      "source": [
        "# Create a label encoder for each column. Encode the values\n",
        "le = preprocessing.LabelEncoder()\n",
        "train_categorical = train_categorical.apply(le.fit_transform)\n",
        "train_categorical.head(3)"
      ],
      "execution_count": 26,
      "outputs": [
        {
          "output_type": "execute_result",
          "data": {
            "text/html": [
              "<div>\n",
              "<style scoped>\n",
              "    .dataframe tbody tr th:only-of-type {\n",
              "        vertical-align: middle;\n",
              "    }\n",
              "\n",
              "    .dataframe tbody tr th {\n",
              "        vertical-align: top;\n",
              "    }\n",
              "\n",
              "    .dataframe thead th {\n",
              "        text-align: right;\n",
              "    }\n",
              "</style>\n",
              "<table border=\"1\" class=\"dataframe\">\n",
              "  <thead>\n",
              "    <tr style=\"text-align: right;\">\n",
              "      <th></th>\n",
              "      <th>Gender</th>\n",
              "      <th>Region_Code</th>\n",
              "      <th>Occupation</th>\n",
              "      <th>Channel_Code</th>\n",
              "      <th>Credit_Product</th>\n",
              "      <th>Is_Active</th>\n",
              "    </tr>\n",
              "  </thead>\n",
              "  <tbody>\n",
              "    <tr>\n",
              "      <th>0</th>\n",
              "      <td>0</td>\n",
              "      <td>18</td>\n",
              "      <td>1</td>\n",
              "      <td>2</td>\n",
              "      <td>0</td>\n",
              "      <td>0</td>\n",
              "    </tr>\n",
              "    <tr>\n",
              "      <th>1</th>\n",
              "      <td>0</td>\n",
              "      <td>27</td>\n",
              "      <td>2</td>\n",
              "      <td>0</td>\n",
              "      <td>0</td>\n",
              "      <td>0</td>\n",
              "    </tr>\n",
              "    <tr>\n",
              "      <th>2</th>\n",
              "      <td>0</td>\n",
              "      <td>18</td>\n",
              "      <td>3</td>\n",
              "      <td>2</td>\n",
              "      <td>0</td>\n",
              "      <td>1</td>\n",
              "    </tr>\n",
              "  </tbody>\n",
              "</table>\n",
              "</div>"
            ],
            "text/plain": [
              "   Gender  Region_Code  Occupation  Channel_Code  Credit_Product  Is_Active\n",
              "0       0           18           1             2               0          0\n",
              "1       0           27           2             0               0          0\n",
              "2       0           18           3             2               0          1"
            ]
          },
          "metadata": {
            "tags": []
          },
          "execution_count": 26
        }
      ]
    },
    {
      "cell_type": "code",
      "metadata": {
        "colab": {
          "base_uri": "https://localhost:8080/"
        },
        "id": "b-8PskOTDKyy",
        "outputId": "b44fa745-62af-40bf-bf31-dbeacf96681c"
      },
      "source": [
        "# Inspect the data types of the columns of the data frame\n",
        "print(train_categorical.dtypes)"
      ],
      "execution_count": 27,
      "outputs": [
        {
          "output_type": "stream",
          "text": [
            "Gender            int64\n",
            "Region_Code       int64\n",
            "Occupation        int64\n",
            "Channel_Code      int64\n",
            "Credit_Product    int64\n",
            "Is_Active         int64\n",
            "dtype: object\n"
          ],
          "name": "stdout"
        }
      ]
    },
    {
      "cell_type": "code",
      "metadata": {
        "colab": {
          "base_uri": "https://localhost:8080/",
          "height": 205
        },
        "id": "jPxHgHdCGMbr",
        "outputId": "d3d46663-313a-45e2-b9df-e9440d479b28"
      },
      "source": [
        "train = train.drop(train.select_dtypes(include=['object']), axis=1)\n",
        "train = pd.concat([train,train_categorical], axis=1)\n",
        "train.head()"
      ],
      "execution_count": 28,
      "outputs": [
        {
          "output_type": "execute_result",
          "data": {
            "text/html": [
              "<div>\n",
              "<style scoped>\n",
              "    .dataframe tbody tr th:only-of-type {\n",
              "        vertical-align: middle;\n",
              "    }\n",
              "\n",
              "    .dataframe tbody tr th {\n",
              "        vertical-align: top;\n",
              "    }\n",
              "\n",
              "    .dataframe thead th {\n",
              "        text-align: right;\n",
              "    }\n",
              "</style>\n",
              "<table border=\"1\" class=\"dataframe\">\n",
              "  <thead>\n",
              "    <tr style=\"text-align: right;\">\n",
              "      <th></th>\n",
              "      <th>Age</th>\n",
              "      <th>Vintage</th>\n",
              "      <th>Avg_Account_Balance</th>\n",
              "      <th>Is_Lead</th>\n",
              "      <th>Gender</th>\n",
              "      <th>Region_Code</th>\n",
              "      <th>Occupation</th>\n",
              "      <th>Channel_Code</th>\n",
              "      <th>Credit_Product</th>\n",
              "      <th>Is_Active</th>\n",
              "    </tr>\n",
              "  </thead>\n",
              "  <tbody>\n",
              "    <tr>\n",
              "      <th>0</th>\n",
              "      <td>73</td>\n",
              "      <td>43</td>\n",
              "      <td>1045696</td>\n",
              "      <td>0</td>\n",
              "      <td>0</td>\n",
              "      <td>18</td>\n",
              "      <td>1</td>\n",
              "      <td>2</td>\n",
              "      <td>0</td>\n",
              "      <td>0</td>\n",
              "    </tr>\n",
              "    <tr>\n",
              "      <th>1</th>\n",
              "      <td>30</td>\n",
              "      <td>32</td>\n",
              "      <td>581988</td>\n",
              "      <td>0</td>\n",
              "      <td>0</td>\n",
              "      <td>27</td>\n",
              "      <td>2</td>\n",
              "      <td>0</td>\n",
              "      <td>0</td>\n",
              "      <td>0</td>\n",
              "    </tr>\n",
              "    <tr>\n",
              "      <th>2</th>\n",
              "      <td>56</td>\n",
              "      <td>26</td>\n",
              "      <td>1484315</td>\n",
              "      <td>0</td>\n",
              "      <td>0</td>\n",
              "      <td>18</td>\n",
              "      <td>3</td>\n",
              "      <td>2</td>\n",
              "      <td>0</td>\n",
              "      <td>1</td>\n",
              "    </tr>\n",
              "    <tr>\n",
              "      <th>3</th>\n",
              "      <td>34</td>\n",
              "      <td>19</td>\n",
              "      <td>470454</td>\n",
              "      <td>0</td>\n",
              "      <td>1</td>\n",
              "      <td>20</td>\n",
              "      <td>2</td>\n",
              "      <td>0</td>\n",
              "      <td>0</td>\n",
              "      <td>0</td>\n",
              "    </tr>\n",
              "    <tr>\n",
              "      <th>4</th>\n",
              "      <td>30</td>\n",
              "      <td>33</td>\n",
              "      <td>886787</td>\n",
              "      <td>0</td>\n",
              "      <td>0</td>\n",
              "      <td>32</td>\n",
              "      <td>2</td>\n",
              "      <td>0</td>\n",
              "      <td>0</td>\n",
              "      <td>0</td>\n",
              "    </tr>\n",
              "  </tbody>\n",
              "</table>\n",
              "</div>"
            ],
            "text/plain": [
              "   Age  Vintage  Avg_Account_Balance  ...  Channel_Code  Credit_Product  Is_Active\n",
              "0   73       43              1045696  ...             2               0          0\n",
              "1   30       32               581988  ...             0               0          0\n",
              "2   56       26              1484315  ...             2               0          1\n",
              "3   34       19               470454  ...             0               0          0\n",
              "4   30       33               886787  ...             0               0          0\n",
              "\n",
              "[5 rows x 10 columns]"
            ]
          },
          "metadata": {
            "tags": []
          },
          "execution_count": 28
        }
      ]
    },
    {
      "cell_type": "code",
      "metadata": {
        "id": "PwMvkmP8GMxj"
      },
      "source": [
        "train['Is_Lead'] = train['Is_Lead'].astype('category')"
      ],
      "execution_count": 29,
      "outputs": []
    },
    {
      "cell_type": "code",
      "metadata": {
        "id": "PBobu658GM19"
      },
      "source": [
        "#For train dataset\n",
        "X = train.drop('Is_Lead',axis=1)\n",
        "y = train['Is_Lead']"
      ],
      "execution_count": 30,
      "outputs": []
    },
    {
      "cell_type": "markdown",
      "metadata": {
        "id": "rfbVmt4qF2nW"
      },
      "source": [
        "#Your First Pipeline"
      ]
    },
    {
      "cell_type": "code",
      "metadata": {
        "id": "BvwxR7wfF5Fg"
      },
      "source": [
        "# Split the data into train and test, with 20% as test\n",
        "X_train, X_test, y_train, y_test = train_test_split(\n",
        "  X, y, test_size=0.2, random_state=1)"
      ],
      "execution_count": 31,
      "outputs": []
    },
    {
      "cell_type": "code",
      "metadata": {
        "colab": {
          "base_uri": "https://localhost:8080/"
        },
        "id": "6io-7jDQGf39",
        "outputId": "ae15459c-e2e7-4067-d5f7-65cba3041a2d"
      },
      "source": [
        "# Create a random forest classifier, fixing the seed to 2\n",
        "rf_model = RandomForestClassifier(random_state=2)\n",
        "rf_model.fit(X_train, y_train)"
      ],
      "execution_count": 32,
      "outputs": [
        {
          "output_type": "execute_result",
          "data": {
            "text/plain": [
              "RandomForestClassifier(bootstrap=True, ccp_alpha=0.0, class_weight=None,\n",
              "                       criterion='gini', max_depth=None, max_features='auto',\n",
              "                       max_leaf_nodes=None, max_samples=None,\n",
              "                       min_impurity_decrease=0.0, min_impurity_split=None,\n",
              "                       min_samples_leaf=1, min_samples_split=2,\n",
              "                       min_weight_fraction_leaf=0.0, n_estimators=100,\n",
              "                       n_jobs=None, oob_score=False, random_state=2, verbose=0,\n",
              "                       warm_start=False)"
            ]
          },
          "metadata": {
            "tags": []
          },
          "execution_count": 32
        }
      ]
    },
    {
      "cell_type": "code",
      "metadata": {
        "id": "arw07GejIS7i"
      },
      "source": [
        "# Use it to predict the labels of the test data\n",
        "rf_predictions = rf_model.predict(X_test)"
      ],
      "execution_count": 33,
      "outputs": []
    },
    {
      "cell_type": "code",
      "metadata": {
        "colab": {
          "base_uri": "https://localhost:8080/"
        },
        "id": "VwCFzI1XHrqM",
        "outputId": "967e2e6f-85bf-411f-e778-8560c4340e33"
      },
      "source": [
        "# Assess the accuracy of both classifiers\n",
        "print(accuracy_score(y_test, rf_predictions))\n",
        "print(\"Classification Report: \\n\", classification_report(y_test, rf_predictions))"
      ],
      "execution_count": 34,
      "outputs": [
        {
          "output_type": "stream",
          "text": [
            "0.7796113541560687\n",
            "Classification Report: \n",
            "               precision    recall  f1-score   support\n",
            "\n",
            "           0       0.81      0.92      0.86     37615\n",
            "           1       0.55      0.31      0.40     11530\n",
            "\n",
            "    accuracy                           0.78     49145\n",
            "   macro avg       0.68      0.62      0.63     49145\n",
            "weighted avg       0.75      0.78      0.76     49145\n",
            "\n"
          ],
          "name": "stdout"
        }
      ]
    },
    {
      "cell_type": "markdown",
      "metadata": {
        "id": "VoRpOyhhIs6d"
      },
      "source": [
        "#Model complexity and overfitting\n",
        "\n",
        "Grid search CV for model complexity\n"
      ]
    },
    {
      "cell_type": "code",
      "metadata": {
        "colab": {
          "base_uri": "https://localhost:8080/"
        },
        "id": "1YeKzFRHjgWs",
        "outputId": "889a72ed-3493-47eb-ce0e-36dbe3fc6cbe"
      },
      "source": [
        "# Set a range for n_estimators from 10 to 40 in steps of 10\n",
        "param_grid = {'n_estimators': range(10, 50, 10)}\n",
        "\n",
        "# Optimize for a RandomForestClassifier() using GridSearchCV\n",
        "grid = GridSearchCV(RandomForestClassifier(), param_grid, cv=3)\n",
        "grid.fit(X_train, y_train)\n",
        "grid.best_params_"
      ],
      "execution_count": 35,
      "outputs": [
        {
          "output_type": "execute_result",
          "data": {
            "text/plain": [
              "{'n_estimators': 40}"
            ]
          },
          "metadata": {
            "tags": []
          },
          "execution_count": 35
        }
      ]
    },
    {
      "cell_type": "markdown",
      "metadata": {
        "id": "VffxjAYTo8sC"
      },
      "source": [
        "#Adapt your code to optimise n_estimators for an AdaBoostClassifier()."
      ]
    },
    {
      "cell_type": "code",
      "metadata": {
        "colab": {
          "base_uri": "https://localhost:8080/"
        },
        "id": "t4tz08xCpCKH",
        "outputId": "addc4d56-d25c-45e6-b97a-d61cdec8d440"
      },
      "source": [
        "# Define a grid for n_estimators ranging from 1 to 10\n",
        "param_grid = {'n_estimators': range(1, 11)}\n",
        "\n",
        "# Optimize for a AdaBoostClassifier() using GridSearchCV\n",
        "grid = GridSearchCV(AdaBoostClassifier(), param_grid, cv=3)\n",
        "grid.fit(X, y)\n",
        "grid.best_params_"
      ],
      "execution_count": 36,
      "outputs": [
        {
          "output_type": "execute_result",
          "data": {
            "text/plain": [
              "{'n_estimators': 9}"
            ]
          },
          "metadata": {
            "tags": []
          },
          "execution_count": 36
        }
      ]
    },
    {
      "cell_type": "markdown",
      "metadata": {
        "id": "QyPXnZiTphrR"
      },
      "source": [
        "#Adapt your code to optimise n_neighbors for an KNeighborsClassifier()."
      ]
    },
    {
      "cell_type": "code",
      "metadata": {
        "colab": {
          "base_uri": "https://localhost:8080/"
        },
        "id": "FgFhgvkopoFK",
        "outputId": "8fd7e3f4-dc9c-43b1-e77b-e08c9857462f"
      },
      "source": [
        "# Define a grid for n_neighbors with values 10, 50 and 100\n",
        "param_grid = {'n_neighbors': [10, 50, 100]}\n",
        "\n",
        "# Optimize for KNeighborsClassifier() using GridSearchCV\n",
        "grid = GridSearchCV(KNeighborsClassifier(), param_grid, cv=3)\n",
        "grid.fit(X, y)\n",
        "grid.best_params_"
      ],
      "execution_count": 37,
      "outputs": [
        {
          "output_type": "execute_result",
          "data": {
            "text/plain": [
              "{'n_neighbors': 100}"
            ]
          },
          "metadata": {
            "tags": []
          },
          "execution_count": 37
        }
      ]
    },
    {
      "cell_type": "markdown",
      "metadata": {
        "id": "khNAIzzMrFK7"
      },
      "source": [
        "\n",
        "# Number of trees and estimators\n",
        "\n",
        "Random forests are an ensemble over a large number of decision trees. The number of trees used is controlled by a parameter called n_estimators"
      ]
    },
    {
      "cell_type": "markdown",
      "metadata": {
        "id": "ZgaY5hcYsbg8"
      },
      "source": [
        "#Feature Importance\n",
        "\n",
        "https://towardsdatascience.com/feature-selection-techniques-in-machine-learning-with-python-f24e7da3f36e"
      ]
    },
    {
      "cell_type": "code",
      "metadata": {
        "colab": {
          "base_uri": "https://localhost:8080/",
          "height": 0
        },
        "id": "xMCEO-7Nsdr3",
        "outputId": "025979af-e5be-4bbe-d6c5-1f5aa70d3255"
      },
      "source": [
        "import matplotlib.pyplot as plt\n",
        "model = ExtraTreesClassifier()\n",
        "model.fit(X,y)\n",
        "print(model.feature_importances_) #use inbuilt class feature_importances of tree based classifiers\n",
        "#plot graph of feature importances for better visualization\n",
        "feat_importances = pd.Series(model.feature_importances_, index=X.columns)\n",
        "feat_importances.nlargest(10).plot(kind='barh')\n",
        "plt.show()"
      ],
      "execution_count": 38,
      "outputs": [
        {
          "output_type": "stream",
          "text": [
            "[0.20047606 0.21266944 0.30359348 0.00918585 0.14003558 0.05159282\n",
            " 0.05357651 0.01346406 0.0154062 ]\n"
          ],
          "name": "stdout"
        },
        {
          "output_type": "display_data",
          "data": {
            "image/png": "[encoded data removed]",
            "text/plain": [
              "<Figure size 432x288 with 1 Axes>"
            ]
          },
          "metadata": {
            "tags": [],
            "needs_background": "light"
          }
        }
      ]
    },
    {
      "cell_type": "markdown",
      "metadata": {
        "id": "Ad4hNswItVna"
      },
      "source": [
        "#Bringing it all together\n"
      ]
    },
    {
      "cell_type": "markdown",
      "metadata": {
        "id": "ZV2IA56q0SoR"
      },
      "source": [
        "Feature selection method: SelectKBest\n",
        "\n",
        "\n",
        "Score function:\n",
        "\n",
        "For regression: f_regression, mutual_info_regression\n",
        "\n",
        "For classification: chi2, f_classif, mutual_info_classif\n",
        "\n",
        "https://www.kaggle.com/jepsds/feature-selection-using-selectkbest?utm_campaign=News&utm_medium=Community&utm_source=DataCamp.com"
      ]
    },
    {
      "cell_type": "code",
      "metadata": {
        "id": "kiFyRMKsJeh9"
      },
      "source": [
        "# Find the best value for max_depth among values 2, 5 and 10\n",
        "grid_search = GridSearchCV(\n",
        "  RandomForestClassifier(random_state=1), param_grid={'max_depth': [2, 5, 10]})\n",
        "best_value = grid_search.fit(\n",
        "  X_train, y_train).best_params_['max_depth']\n",
        "\n",
        "# Using the best value from above, fit a random forest\n",
        "clf = RandomForestClassifier(\n",
        "  random_state=1, max_depth=best_value).fit(X_train, y_train)\n",
        "\n",
        "# Apply SelectKBest with chi2 and pick top 9 features\n",
        "vt = SelectKBest(chi2, k=5).fit(X_train, y_train) #chi2 used for classification problem\n",
        "\n",
        "# Create a new dataset only containing the selected features\n",
        "X_train_reduced = vt.transform(X_train)"
      ],
      "execution_count": 39,
      "outputs": []
    },
    {
      "cell_type": "markdown",
      "metadata": {
        "id": "LAFAoMNZ5VEf"
      },
      "source": [
        "#Imperfect Labels\n",
        "\n",
        "Dealing with label noise\n"
      ]
    },
    {
      "cell_type": "code",
      "metadata": {
        "colab": {
          "base_uri": "https://localhost:8080/"
        },
        "id": "2x77Y202Nm4J",
        "outputId": "a44b2e5c-7957-4e8b-df82-ef8524979f85"
      },
      "source": [
        "y.value_counts()"
      ],
      "execution_count": 40,
      "outputs": [
        {
          "output_type": "execute_result",
          "data": {
            "text/plain": [
              "0    187437\n",
              "1     58288\n",
              "Name: Is_Lead, dtype: int64"
            ]
          },
          "metadata": {
            "tags": []
          },
          "execution_count": 40
        }
      ]
    },
    {
      "cell_type": "markdown",
      "metadata": {
        "id": "_XqUuHuk9I7i"
      },
      "source": [
        "Method3: SMOTE"
      ]
    },
    {
      "cell_type": "code",
      "metadata": {
        "colab": {
          "base_uri": "https://localhost:8080/"
        },
        "id": "MpN7-DWn5Zf-",
        "outputId": "5310faba-77de-4387-bc02-9ccdcae51221"
      },
      "source": [
        "import numpy as np\n",
        "\n",
        "from imblearn.over_sampling import SMOTE\n",
        "\n",
        "smote = SMOTE(sampling_strategy='minority')\n",
        "X_sm, y_sm = smote.fit_sample(X, y)\n",
        "np.array(np.unique(y_sm, return_counts=True)).T"
      ],
      "execution_count": 41,
      "outputs": [
        {
          "output_type": "execute_result",
          "data": {
            "text/plain": [
              "array([[     0, 187437],\n",
              "       [     1, 187437]])"
            ]
          },
          "metadata": {
            "tags": []
          },
          "execution_count": 41
        }
      ]
    },
    {
      "cell_type": "code",
      "metadata": {
        "id": "w5gG1UY89k6m"
      },
      "source": [
        "from sklearn.model_selection import train_test_split\n",
        "X_train, X_test, y_train, y_test = train_test_split(X_sm, y_sm, test_size=0.2, random_state=15, stratify=y_sm)"
      ],
      "execution_count": 42,
      "outputs": []
    },
    {
      "cell_type": "code",
      "metadata": {
        "colab": {
          "base_uri": "https://localhost:8080/"
        },
        "id": "UYoNFRl-MOMo",
        "outputId": "fd80dc18-4e23-4b88-e28f-40ee1b1cf2a1"
      },
      "source": [
        "# Create a random forest classifier, fixing the seed to 2\n",
        "rf_model = RandomForestClassifier(random_state=2)\n",
        "rf_model.fit(X_train, y_train)\n",
        "# Use it to predict the labels of the test data\n",
        "rf_predictions = rf_model.predict(X_test)\n",
        "# Assess the accuracy of both classifiers\n",
        "print(accuracy_score(y_test, rf_predictions))"
      ],
      "execution_count": 43,
      "outputs": [
        {
          "output_type": "stream",
          "text": [
            "0.7969056352117373\n"
          ],
          "name": "stdout"
        }
      ]
    },
    {
      "cell_type": "code",
      "metadata": {
        "colab": {
          "base_uri": "https://localhost:8080/"
        },
        "id": "zxgI8MJLMj5l",
        "outputId": "8e782b34-458f-4aa3-96c9-7993c5d5cd4e"
      },
      "source": [
        "\n",
        "print(\"Classification Report: \\n\", classification_report(y_test, rf_predictions))"
      ],
      "execution_count": 44,
      "outputs": [
        {
          "output_type": "stream",
          "text": [
            "Classification Report: \n",
            "               precision    recall  f1-score   support\n",
            "\n",
            "           0       0.78      0.82      0.80     37488\n",
            "           1       0.81      0.77      0.79     37487\n",
            "\n",
            "    accuracy                           0.80     74975\n",
            "   macro avg       0.80      0.80      0.80     74975\n",
            "weighted avg       0.80      0.80      0.80     74975\n",
            "\n"
          ],
          "name": "stdout"
        }
      ]
    },
    {
      "cell_type": "markdown",
      "metadata": {
        "id": "vP3jsW4WTjHq"
      },
      "source": [
        "#From Workflow to Pipelines\n",
        "\n",
        "Your first pipeline"
      ]
    },
    {
      "cell_type": "code",
      "metadata": {
        "colab": {
          "base_uri": "https://localhost:8080/"
        },
        "id": "a7y_zHc4Tnme",
        "outputId": "6df9d7e3-9477-4b09-f03c-1edc465a00e2"
      },
      "source": [
        "from sklearn.pipeline import Pipeline\n",
        "# Create pipeline with feature selector and classifier\n",
        "pipe = Pipeline([\n",
        "    ('feature_selection', SelectKBest(chi2)),\n",
        "    ('clf', RandomForestClassifier(random_state=2))])\n",
        "\n",
        "# Create a parameter grid\n",
        "params = {\n",
        "   'feature_selection__k':[5, 9],\n",
        "   'clf__n_estimators':[2, 5]}\n",
        "\n",
        "# Initialise the grid search object\n",
        "grid_search = GridSearchCV(pipe, param_grid=params)\n",
        "\n",
        "# Fit it to the data and print the best value combination\n",
        "print(grid_search.fit(X_train, y_train).best_params_)"
      ],
      "execution_count": 45,
      "outputs": [
        {
          "output_type": "stream",
          "text": [
            "{'clf__n_estimators': 5, 'feature_selection__k': 9}\n"
          ],
          "name": "stdout"
        }
      ]
    },
    {
      "cell_type": "code",
      "metadata": {
        "colab": {
          "base_uri": "https://localhost:8080/"
        },
        "id": "eA4xX1lNT_BU",
        "outputId": "2637909e-a0fd-4d80-8fbe-b7e8e08bd5f8"
      },
      "source": [
        "#Convert the metric roc_auc_score() into a scorer, and feed it into GridSearchCV(). Then fit that to the data.\n",
        "from sklearn.metrics import roc_auc_score , make_scorer\n",
        "# Create a custom scorer\n",
        "scorer = make_scorer(roc_auc_score) # The function that converts metrics to scorers is called make_scorer().\n",
        "\n",
        "# Initialize the CV object\n",
        "gs = GridSearchCV(pipe, param_grid=params, scoring=scorer)\n",
        "\n",
        "# Fit it to the data and print the winning combination\n",
        "print(gs.fit(X_train, y_train).best_params_)"
      ],
      "execution_count": 46,
      "outputs": [
        {
          "output_type": "stream",
          "text": [
            "{'clf__n_estimators': 5, 'feature_selection__k': 9}\n"
          ],
          "name": "stdout"
        }
      ]
    },
    {
      "cell_type": "code",
      "metadata": {
        "colab": {
          "base_uri": "https://localhost:8080/"
        },
        "id": "6xlMXhYcWYyt",
        "outputId": "75eefd62-9f38-454d-f3f1-0801318f14a7"
      },
      "source": [
        "#The optional parameter in GridSearchCV() that controls the choice of scoring function is called scoring.\n",
        "#Now repeat for the F1 score, instead, given by f1_score().\n",
        "from sklearn.metrics import f1_score\n",
        "# Create a custom scorer\n",
        "scorer = make_scorer(f1_score)\n",
        "\n",
        "# Initialise the CV object\n",
        "gs = GridSearchCV(pipe, param_grid=params, scoring=scorer)\n",
        "\n",
        "# Fit it to the data and print the winning combination\n",
        "print(gs.fit(X_train, y_train).best_params_)"
      ],
      "execution_count": 47,
      "outputs": [
        {
          "output_type": "stream",
          "text": [
            "{'clf__n_estimators': 5, 'feature_selection__k': 9}\n"
          ],
          "name": "stdout"
        }
      ]
    },
    {
      "cell_type": "markdown",
      "metadata": {
        "id": "0OkFVjxhUsgg"
      },
      "source": [
        "#Serializing your model\n",
        "\n",
        "Store a classifier to file:"
      ]
    },
    {
      "cell_type": "code",
      "metadata": {
        "id": "THC91Bz3UzsM"
      },
      "source": [
        "import pickle\n",
        "\n",
        "# Save it to a file, to be pushed to production\n",
        "with open('model_pickle','wb') as file:\n",
        "  pickle.dump(rf_model, file = file)"
      ],
      "execution_count": 49,
      "outputs": []
    },
    {
      "cell_type": "code",
      "metadata": {
        "id": "9yLHRyEWXpVi",
        "outputId": "77cf19c2-5655-428f-f619-c0ea5bbb86f0",
        "colab": {
          "base_uri": "https://localhost:8080/"
        }
      },
      "source": [
        "# Now load the model from file in the production environment\n",
        "with open('model_pickle', 'rb') as file:\n",
        "    clf_from_file = pickle.load(file)\n",
        "\n",
        "# Predict the labels of the test dataset\n",
        "preds = clf_from_file.predict(X_test)\n",
        "preds"
      ],
      "execution_count": 52,
      "outputs": [
        {
          "output_type": "execute_result",
          "data": {
            "text/plain": [
              "array([0, 0, 0, ..., 0, 1, 0])"
            ]
          },
          "metadata": {
            "tags": []
          },
          "execution_count": 52
        }
      ]
    },
    {
      "cell_type": "markdown",
      "metadata": {
        "id": "IwbKYVs7WhRV"
      },
      "source": [
        "#Serializing your pipeline\n",
        "\n",
        "Development environment"
      ]
    },
    {
      "cell_type": "code",
      "metadata": {
        "id": "pzHiRA-1WkAm"
      },
      "source": [
        "pipe = Pipeline([\n",
        "                 ('fs', SelectKBest(chi2)),  \n",
        "                 ('clf', RandomForestClassifier())])\n",
        "params = dict(fs__k=[2, 3, 4],  \n",
        "        clf__max_depth=[5, 10, 20])\n",
        "gs = GridSearchCV(pipe, params)\n",
        "gs = gs.fit(X_train, y_train)\n",
        "with open('pipe.pkl', 'wb') as file:  \n",
        "    pickle.dump(gs, file)"
      ],
      "execution_count": null,
      "outputs": []
    },
    {
      "cell_type": "markdown",
      "metadata": {
        "id": "DQO6OdtWW75Y"
      },
      "source": [
        "#Serializing your pipeline\n",
        "\n",
        "Production environment"
      ]
    },
    {
      "cell_type": "code",
      "metadata": {
        "id": "6Hm0e2g5W-cl"
      },
      "source": [
        "with open('pipe.pkl', 'rb') as file: \n",
        "    gs = pickle.dump(gs, file)\n",
        "gs.predict(X_test)\n"
      ],
      "execution_count": null,
      "outputs": []
    },
    {
      "cell_type": "markdown",
      "metadata": {
        "id": "oyAFlcPWa1Xy"
      },
      "source": [
        "#Cross-validation statistics\n"
      ]
    },
    {
      "cell_type": "code",
      "metadata": {
        "id": "JZFHHZUgayqJ",
        "outputId": "1d3157d4-ecba-4db3-ce24-416bf9fffcb7",
        "colab": {
          "base_uri": "https://localhost:8080/"
        }
      },
      "source": [
        "# Fit your pipeline using GridSearchCV with three folds\n",
        "grid_search = GridSearchCV(\n",
        "  pipe, params, cv=3, return_train_score=True)\n",
        "\n",
        "# Fit the grid search\n",
        "gs = grid_search.fit(X_train, y_train)\n",
        "\n",
        "# Store the results of CV into a pandas dataframe\n",
        "results = pd.DataFrame(gs.cv_results_)\n",
        "\n",
        "# Print the difference between mean test and training scores\n",
        "print(\n",
        "  results['mean_test_score']-results['mean_train_score'])"
      ],
      "execution_count": 53,
      "outputs": [
        {
          "output_type": "stream",
          "text": [
            "0   -0.198420\n",
            "1   -0.161714\n",
            "2   -0.238779\n",
            "3   -0.203999\n",
            "dtype: float64\n"
          ],
          "name": "stdout"
        }
      ]
    },
    {
      "cell_type": "markdown",
      "metadata": {
        "id": "E4xUYS3xbXlr"
      },
      "source": [
        "The difference between training and test performance seems quite big here, and that is always a telltale sign of overfitting!"
      ]
    }
  ]
}